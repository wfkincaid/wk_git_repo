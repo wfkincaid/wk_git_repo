{
 "cells": [
  {
   "cell_type": "code",
   "execution_count": null,
   "id": "e073ecbf-499b-4417-b14e-dfa39d5c1c0e",
   "metadata": {},
   "outputs": [],
   "source": [
    "from matplotlib import *\n",
    "from pylab import *\n",
    "from numpy import *\n",
    "from pyspecdata import *"
   ]
  },
  {
   "cell_type": "markdown",
   "id": "2ba133c7-1122-434a-a652-844e0a6279c7",
   "metadata": {},
   "source": [
    "Provide file names, start making figlist"
   ]
  },
  {
   "cell_type": "code",
   "execution_count": null,
   "id": "5def35e9-c132-4b20-823c-7bf937bb86d4",
   "metadata": {},
   "outputs": [],
   "source": [
    "filename1 = 'VectorH_240606_fixed.fld' #90 deg phase\n",
    "filename2 = 'VectorH_240523.fld' #0 deg phase\n",
    "fl = figlist_var()"
   ]
  },
  {
   "cell_type": "markdown",
   "id": "f18286c9-6d6b-4ac0-87d2-30a8c22c9c60",
   "metadata": {},
   "source": [
    "Define how axes are constructed based on which dimension fields are plotted on, pop() to remove irrelevant dimension"
   ]
  },
  {
   "cell_type": "code",
   "execution_count": null,
   "id": "ece98a78-b52d-4e61-9846-864e1fe7a5b7",
   "metadata": {},
   "outputs": [],
   "source": [
    "def construct_axes_from_positions(positions):\n",
    "    #{{{ construct the axes\n",
    "    list_of_axes = [unique(positions[:,j]) for j in range(0,3)]\n",
    "    list_of_indeces = [0,1,2]\n",
    "    for j in range(0,len(list_of_axes)):\n",
    "        if len(list_of_axes[j]) == 1:\n",
    "            list_of_axes.pop(j)\n",
    "            list_of_indeces.pop(j)\n",
    "            break\n",
    "    [u_axis,v_axis] = list_of_axes\n",
    "    [u_index,v_index] = list_of_indeces\n",
    "    return u_index,v_index,u_axis,v_axis\n",
    "    #}}}"
   ]
  },
  {
   "cell_type": "markdown",
   "id": "b2f1ddd2-1d97-4304-a81a-33274f46c58c",
   "metadata": {},
   "source": [
    "Defines how a vector file is opened, read, enumerated to individual values, and NAN separated from #s"
   ]
  },
  {
   "cell_type": "code",
   "execution_count": null,
   "id": "ac5e8f99-abf2-4b62-acf5-fc23f75fd5a5",
   "metadata": {},
   "outputs": [],
   "source": [
    "def load_hfss_vectors(filename,show_valid = False):\n",
    "    fp = open(filename,'r')\n",
    "    data = fp.readlines()\n",
    "    fp.close()\n",
    "    header = data[0:2]\n",
    "    print(\"the second line tells me what's in the file -- x,y,z, followed by the 3 positions of vector data and the final part tells me what it is\")\n",
    "    print('header is',r'\\begin{verbatim}', header, r'\\end{verbatim}')\n",
    "    data = data[2:]\n",
    "    positions = empty((len(data),3),dtype = 'double')\n",
    "    vec_vals = empty((len(data),3),dtype = 'double')\n",
    "    for j,line in enumerate(data):\n",
    "        vals = [double(x) for x in line.strip().split(\" \") if len(x)>0]\n",
    "        positions[j,:] = vals[0:3]\n",
    "        vec_vals[j,:] = vals[3:]\n",
    "    u_index,v_index,u_axis,v_axis = construct_axes_from_positions(positions)\n",
    "    #{{{ show the datapoints and which are valid\n",
    "    if show_valid:\n",
    "        fl.next('show valid values')\n",
    "        thismask = isnan(vec_vals[:,u_index])\n",
    "        print(\"invalid/valid\",sum(thismask), sum(~thismask))\n",
    "        fl.plot(positions[:,u_index][thismask],positions[:,v_index][thismask],'r.')\n",
    "        fl.plot(positions[:,u_index][~thismask],positions[:,v_index][~thismask],'b.') # '~' = 'not'\n",
    "        xlabel('u')\n",
    "        ylabel('v')\n",
    "        gca().set_aspect('equal', 'datalim')\n",
    "    #}}}\n",
    "    data = empty((len(u_axis),len(v_axis),3),dtype = 'double')\n",
    "    for j in range(0,positions.shape[0]):\n",
    "        u_i = where(u_axis == positions[j,u_index])[0][0]\n",
    "        v_i = where(v_axis == positions[j,v_index])[0][0]\n",
    "        data[u_i,v_i,:] = vec_vals[j,:]\n",
    "    return u_index,u_axis,v_index,v_axis,data"
   ]
  },
  {
   "cell_type": "code",
   "execution_count": null,
   "id": "443687f2-e5ca-4f9d-abc5-82f615057b92",
   "metadata": {},
   "outputs": [],
   "source": [
    "# I could manually set the \"extent\" kwarg of imshow, but I'm going to load this as an nddata\n",
    "# to get a plot with coordinates\n",
    "fl.next('show real and img and complex plots')\n",
    "filename_cmplx_pair = (\n",
    "    'VectorH_240523.fld', #0 deg phase\n",
    "    'VectorH_240606_fixed.fld', #90 deg phase\n",
    ")\n",
    "def load_hfss_vectors_as_nddata(filename2):\n",
    "    axis_names = ['x','y','z']\n",
    "    u_index, u_axis, v_index, v_axis, data2 = load_hfss_vectors(filename2)\n",
    "    return nddata(data2, data2.shape, [axis_names[u_index], axis_names[v_index], 'vec']).setaxis(\n",
    "        axis_names[u_index], u_axis).setaxis(axis_names[v_index], v_axis).setaxis('vec',r_[0,1,2])\n",
    "def load_hfss_complex_vectors(cmplx_pair):\n",
    "    return ( load_hfss_vectors_as_nddata(cmplx_pair[0])\n",
    "         + 1j * load_hfss_vectors_as_nddata(cmplx_pair[1]))\n",
    "d = load_hfss_complex_vectors(filename_cmplx_pair)\n",
    "d *= 1j # I'm going to flip the phase, since we are interested in imaginary B\n",
    "for j in range(3):\n",
    "    figure(j*3+1)\n",
    "    title(f'component {j+1} real')\n",
    "    image(d['vec',j].real)\n",
    "    figure(j*3+2)\n",
    "    title(f'component {j+1} imag')\n",
    "    image(d['vec',j].imag)\n",
    "    figure(j*3+3)\n",
    "    title(f'component {j+1} domain colored')\n",
    "    image(d['vec',j])"
   ]
  },
  {
   "cell_type": "markdown",
   "id": "51238347-f59d-48fc-9c9e-78214e0c5257",
   "metadata": {},
   "source": [
    "Test out function, see where there are field values and NAN for first file"
   ]
  },
  {
   "cell_type": "code",
   "execution_count": null,
   "id": "53a7fd36-2319-4774-853b-e7541952d9cb",
   "metadata": {},
   "outputs": [],
   "source": [
    "fl.show()"
   ]
  },
  {
   "cell_type": "code",
   "execution_count": null,
   "id": "861397e5-83cb-4c0d-ba50-4a130b2d985d",
   "metadata": {},
   "outputs": [],
   "source": []
  },
  {
   "cell_type": "code",
   "execution_count": null,
   "id": "ac5b2113-a20c-426c-8f75-f7d485422fb3",
   "metadata": {},
   "outputs": [],
   "source": []
  },
  {
   "cell_type": "code",
   "execution_count": null,
   "id": "16fd19dc-8ce7-4075-92d3-a51e595ca493",
   "metadata": {},
   "outputs": [],
   "source": []
  },
  {
   "cell_type": "code",
   "execution_count": null,
   "id": "0967a1c5-76da-4f69-9f69-c450e6b340e5",
   "metadata": {},
   "outputs": [],
   "source": []
  },
  {
   "cell_type": "code",
   "execution_count": null,
   "id": "a0b1307e-fb17-4189-8446-6e82466b5e7f",
   "metadata": {},
   "outputs": [],
   "source": []
  }
 ],
 "metadata": {
  "kernelspec": {
   "display_name": "Python 3 (ipykernel)",
   "language": "python",
   "name": "python3"
  },
  "language_info": {
   "codemirror_mode": {
    "name": "ipython",
    "version": 3
   },
   "file_extension": ".py",
   "mimetype": "text/x-python",
   "name": "python",
   "nbconvert_exporter": "python",
   "pygments_lexer": "ipython3",
   "version": "3.11.7"
  }
 },
 "nbformat": 4,
 "nbformat_minor": 5
}
