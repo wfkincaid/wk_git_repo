{
 "cells": [
  {
   "cell_type": "code",
   "execution_count": 1,
   "id": "f848ad30-e266-4868-bf74-0fc995e89004",
   "metadata": {},
   "outputs": [],
   "source": [
    "from matplotlib import *\n",
    "from pylab import *\n",
    "from numpy import *\n",
    "from pyspecdata import *"
   ]
  },
  {
   "cell_type": "code",
   "execution_count": 2,
   "id": "1ad86b7d-927d-4cb4-87ed-03edba745616",
   "metadata": {},
   "outputs": [],
   "source": [
    "filename = 'VectorH_240523.fld'\n",
    "fl = figlist_var()"
   ]
  },
  {
   "cell_type": "code",
   "execution_count": 3,
   "id": "cd00ba3b-d75c-4f9f-a655-3af953d387fe",
   "metadata": {},
   "outputs": [],
   "source": [
    "def construct_axes_from_positions(positions):\n",
    "    #{{{ construct the axes\n",
    "    list_of_axes = [unique(positions[:,j]) for j in range(0,3)]\n",
    "    list_of_indeces = [0,1,2]\n",
    "    for j in range(0,len(list_of_axes)):\n",
    "        if len(list_of_axes[j]) == 1:\n",
    "            list_of_axes.pop(j)\n",
    "            list_of_indeces.pop(j)\n",
    "            break\n",
    "    [u_axis,v_axis] = list_of_axes\n",
    "    [u_index,v_index] = list_of_indeces\n",
    "    return u_index,v_index,u_axis,v_axis\n",
    "    #}}}"
   ]
  },
  {
   "cell_type": "code",
   "execution_count": 4,
   "id": "855aa249-ab61-4c5b-8115-a2f3a3eda838",
   "metadata": {},
   "outputs": [],
   "source": [
    "def load_hfss_vectors(filename,show_valid = True):\n",
    "    fp = open(filename,'r')\n",
    "    data = fp.readlines()\n",
    "    fp.close()\n",
    "    header = data[0:2]\n",
    "    print(\"the second line tells me what's in the file -- x,y,z, followed by the 3 positions of vector data and the final part tells me what it is\")\n",
    "    print('header is',r'\\begin{verbatim}', header, r'\\end{verbatim}')\n",
    "    data = data[2:]\n",
    "    positions = empty((len(data),3),dtype = 'double')\n",
    "    vec_vals = empty((len(data),3),dtype = 'double')\n",
    "    for j,line in enumerate(data):\n",
    "        vals = [double(x) for x in line.strip().split(\" \") if len(x)>0]\n",
    "        positions[j,:] = vals[0:3]\n",
    "        vec_vals[j,:] = vals[3:]\n",
    "    u_index,v_index,u_axis,v_axis = construct_axes_from_positions(positions)\n",
    "    #{{{ show the datapoints and which are valid\n",
    "    if show_valid:\n",
    "        fl.next('show valid values')\n",
    "        thismask = isnan(vec_vals[:,2])\n",
    "        fl.plot(positions[:,0][thismask],positions[:,v_index][thismask],'r.')\n",
    "        fl.plot(positions[:,0][~thismask],positions[:,v_index][~thismask],'b.')\n",
    "        xlabel('x')\n",
    "        ylabel('z')\n",
    "        axes().set_aspect('equal', 'datalim')\n",
    "    #}}}\n",
    "    data = empty((len(u_axis),len(v_axis),3),dtype = 'double')\n",
    "    for j in range(0,positions.shape[0]):\n",
    "        u_i = where(u_axis == positions[j,u_index])[0][0]\n",
    "        v_i = where(v_axis == positions[j,v_index])[0][0]\n",
    "        data[u_i,v_i,:] = vec_vals[j,:]\n",
    "    return u_index,u_axis,v_index,v_axis,data"
   ]
  },
  {
   "cell_type": "code",
   "execution_count": 5,
   "id": "0bc541d3-8474-4144-a80d-6d0bc38896e1",
   "metadata": {},
   "outputs": [
    {
     "name": "stdout",
     "output_type": "stream",
     "text": [
      "the second line tells me what's in the file -- x,y,z, followed by the 3 positions of vector data and the final part tells me what it is\n",
      "header is \\begin{verbatim} ['Grid Output Min: [-25mm 0mm -20mm] Max: [25mm 0mm 50mm] Grid Size: [1mm 0mm 1mm]\\n', 'X, Y, Z, Vector data \"Vector_H\"\\n'] \\end{verbatim}\n"
     ]
    },
    {
     "data": {
      "text/plain": [
       "(0,\n",
       " array([-0.025, -0.024, -0.023, -0.022, -0.021, -0.02 , -0.019, -0.018,\n",
       "        -0.017, -0.016, -0.015, -0.014, -0.013, -0.012, -0.011, -0.01 ,\n",
       "        -0.009, -0.008, -0.007, -0.006, -0.005, -0.004, -0.003, -0.002,\n",
       "        -0.001,  0.   ,  0.001,  0.002,  0.003,  0.004,  0.005,  0.006,\n",
       "         0.007,  0.008,  0.009,  0.01 ,  0.011,  0.012,  0.013,  0.014,\n",
       "         0.015,  0.016,  0.017,  0.018,  0.019,  0.02 ,  0.021,  0.022,\n",
       "         0.023,  0.024,  0.025]),\n",
       " 2,\n",
       " array([-0.02 , -0.019, -0.018, -0.017, -0.016, -0.015, -0.014, -0.013,\n",
       "        -0.012, -0.011, -0.01 , -0.009, -0.008, -0.007, -0.006, -0.005,\n",
       "        -0.004, -0.003, -0.002, -0.001,  0.   ,  0.001,  0.002,  0.003,\n",
       "         0.004,  0.005,  0.006,  0.007,  0.008,  0.009,  0.01 ,  0.011,\n",
       "         0.012,  0.013,  0.014,  0.015,  0.016,  0.017,  0.018,  0.019,\n",
       "         0.02 ,  0.021,  0.022,  0.023,  0.024,  0.025,  0.026,  0.027,\n",
       "         0.028,  0.029,  0.03 ,  0.031,  0.032,  0.033,  0.034,  0.035,\n",
       "         0.036,  0.037,  0.038,  0.039,  0.04 ,  0.041,  0.042,  0.043,\n",
       "         0.044,  0.045,  0.046,  0.047,  0.048,  0.049,  0.05 ]),\n",
       " array([[[nan, nan, nan],\n",
       "         [nan, nan, nan],\n",
       "         [nan, nan, nan],\n",
       "         ...,\n",
       "         [nan, nan, nan],\n",
       "         [nan, nan, nan],\n",
       "         [nan, nan, nan]],\n",
       " \n",
       "        [[nan, nan, nan],\n",
       "         [nan, nan, nan],\n",
       "         [nan, nan, nan],\n",
       "         ...,\n",
       "         [nan, nan, nan],\n",
       "         [nan, nan, nan],\n",
       "         [nan, nan, nan]],\n",
       " \n",
       "        [[nan, nan, nan],\n",
       "         [nan, nan, nan],\n",
       "         [nan, nan, nan],\n",
       "         ...,\n",
       "         [nan, nan, nan],\n",
       "         [nan, nan, nan],\n",
       "         [nan, nan, nan]],\n",
       " \n",
       "        ...,\n",
       " \n",
       "        [[nan, nan, nan],\n",
       "         [nan, nan, nan],\n",
       "         [nan, nan, nan],\n",
       "         ...,\n",
       "         [nan, nan, nan],\n",
       "         [nan, nan, nan],\n",
       "         [nan, nan, nan]],\n",
       " \n",
       "        [[nan, nan, nan],\n",
       "         [nan, nan, nan],\n",
       "         [nan, nan, nan],\n",
       "         ...,\n",
       "         [nan, nan, nan],\n",
       "         [nan, nan, nan],\n",
       "         [nan, nan, nan]],\n",
       " \n",
       "        [[nan, nan, nan],\n",
       "         [nan, nan, nan],\n",
       "         [nan, nan, nan],\n",
       "         ...,\n",
       "         [nan, nan, nan],\n",
       "         [nan, nan, nan],\n",
       "         [nan, nan, nan]]]))"
      ]
     },
     "execution_count": 5,
     "metadata": {},
     "output_type": "execute_result"
    }
   ],
   "source": [
    "load_hfss_vectors(filename, show_valid = False)"
   ]
  },
  {
   "cell_type": "code",
   "execution_count": 6,
   "id": "9f6d1ff2-c497-42e9-acd6-300f9e388eea",
   "metadata": {},
   "outputs": [
    {
     "name": "stdout",
     "output_type": "stream",
     "text": [
      "(3621,)\n",
      "(3621, 3)\n",
      "(3621, 3)\n"
     ]
    }
   ],
   "source": [
    "fp = open(filename, 'r')\n",
    "data = fp.readlines()\n",
    "data = data[2:]\n",
    "positions = empty((len(data),3),dtype = 'double')\n",
    "vec_vals = empty((len(data),3),dtype = 'double')\n",
    "print(shape(data))\n",
    "print(shape(positions))\n",
    "print(shape(vec_vals))"
   ]
  },
  {
   "cell_type": "code",
   "execution_count": 7,
   "id": "a6ec765e-59e9-4104-8ce5-34499bc8705a",
   "metadata": {},
   "outputs": [
    {
     "name": "stdout",
     "output_type": "stream",
     "text": [
      "(3621, 3)\n",
      "(3621, 3)\n"
     ]
    }
   ],
   "source": [
    "for j,line in enumerate(data):\n",
    "    vals = [double(x) for x in line.strip().split(\" \") if len(x)>0]\n",
    "    positions[j,:] = vals[0:3]\n",
    "    vec_vals[j,:] = vals[3:]\n",
    "u_index,v_index,u_axis,v_axis = construct_axes_from_positions(positions)\n",
    "print(shape(positions))\n",
    "print(shape(vec_vals))"
   ]
  },
  {
   "cell_type": "code",
   "execution_count": 8,
   "id": "deb78856-8e69-45fa-8f7e-27e7f262ee7b",
   "metadata": {},
   "outputs": [
    {
     "name": "stdout",
     "output_type": "stream",
     "text": [
      "[ True  True  True ...  True  True  True]\n"
     ]
    },
    {
     "data": {
      "text/plain": [
       "<Figure size 1132.62x700 with 0 Axes>"
      ]
     },
     "metadata": {},
     "output_type": "display_data"
    }
   ],
   "source": [
    "fl.next('show valid values')\n",
    "thismask = isnan(vec_vals[:,2])\n",
    "print(thismask)"
   ]
  },
  {
   "cell_type": "code",
   "execution_count": 9,
   "id": "46fb6d34-8e78-4ada-8b28-7490d1f7772e",
   "metadata": {},
   "outputs": [
    {
     "name": "stdout",
     "output_type": "stream",
     "text": [
      "[-1.43149685e+00 -6.68706036e+02 -6.74250286e-02 ... -2.54792731e+00\n",
      "  3.10979863e+02  8.66613975e-02]\n",
      "(4866,)\n"
     ]
    }
   ],
   "source": [
    "vec_vals_only = vec_vals[np.isfinite(vec_vals)]\n",
    "print(vec_vals_only)\n",
    "print(shape(vec_vals_only))"
   ]
  },
  {
   "cell_type": "code",
   "execution_count": 17,
   "id": "62954d7f-3e28-4a77-bfef-6eb8cdc9b7d4",
   "metadata": {},
   "outputs": [
    {
     "ename": "TypeError",
     "evalue": "'float' object cannot be interpreted as an integer",
     "output_type": "error",
     "traceback": [
      "\u001b[1;31m---------------------------------------------------------------------------\u001b[0m",
      "\u001b[1;31mTypeError\u001b[0m                                 Traceback (most recent call last)",
      "Cell \u001b[1;32mIn[17], line 1\u001b[0m\n\u001b[1;32m----> 1\u001b[0m vec_vals_only \u001b[38;5;241m=\u001b[39m vec_vals_only\u001b[38;5;241m.\u001b[39mreshape(\u001b[38;5;241m4866\u001b[39m\u001b[38;5;241m/\u001b[39m\u001b[38;5;241m3\u001b[39m,\u001b[38;5;241m3\u001b[39m)\n",
      "\u001b[1;31mTypeError\u001b[0m: 'float' object cannot be interpreted as an integer"
     ]
    }
   ],
   "source": [
    "vec_vals_only = vec_vals_only.reshape(4866/3,3)"
   ]
  },
  {
   "cell_type": "code",
   "execution_count": null,
   "id": "dd5523b3-7adf-495c-a5ae-d21ec215c7c2",
   "metadata": {},
   "outputs": [],
   "source": []
  },
  {
   "cell_type": "code",
   "execution_count": 10,
   "id": "f6f0c781-0080-447c-90e4-8bce6bfce13b",
   "metadata": {},
   "outputs": [
    {
     "name": "stderr",
     "output_type": "stream",
     "text": [
      "c:\\users\\warre\\git\\pyspecdata\\pyspecdata\\core.py:987: UserWarning: marker is redundantly defined by the 'marker' keyword argument and the fmt string \"r.\" (-> marker='.'). The keyword argument will take precedence.\n",
      "  retval = myplotfunc(*plotargs,**kwargs)\n",
      "c:\\users\\warre\\git\\pyspecdata\\pyspecdata\\core.py:987: UserWarning: marker is redundantly defined by the 'marker' keyword argument and the fmt string \"b.\" (-> marker='.'). The keyword argument will take precedence.\n",
      "  retval = myplotfunc(*plotargs,**kwargs)\n"
     ]
    },
    {
     "data": {
      "image/png": "[encoded data removed]",
      "text/plain": [
       "<Figure size 1132.62x700 with 2 Axes>"
      ]
     },
     "metadata": {},
     "output_type": "display_data"
    }
   ],
   "source": [
    "fl.plot(positions[:,0][thismask],positions[:,v_index][thismask],'r.')\n",
    "fl.plot(positions[:,0][~thismask],positions[:,v_index][~thismask],'b.')\n",
    "xlabel('x')\n",
    "ylabel('z')\n",
    "axes().set_aspect('equal', 'datalim')"
   ]
  },
  {
   "cell_type": "code",
   "execution_count": 11,
   "id": "1c6f151c-0c77-4c21-8100-4924f6be96a8",
   "metadata": {},
   "outputs": [],
   "source": [
    "data = empty((len(u_axis),len(v_axis),3),dtype = 'double')\n",
    "for j in range(0,positions.shape[0]):\n",
    "    u_i = where(u_axis == positions[j,u_index])[0][0]\n",
    "    v_i = where(v_axis == positions[j,v_index])[0][0]\n",
    "    data[u_i,v_i,:] = vec_vals[j,:]"
   ]
  },
  {
   "cell_type": "code",
   "execution_count": null,
   "id": "4764d093-d826-4343-abc1-0b90f19fa299",
   "metadata": {},
   "outputs": [],
   "source": []
  },
  {
   "cell_type": "code",
   "execution_count": null,
   "id": "50acc259-daeb-4760-b510-0f2c7d07b0fd",
   "metadata": {},
   "outputs": [],
   "source": []
  },
  {
   "cell_type": "code",
   "execution_count": 12,
   "id": "62a8ea85-a174-4a56-bb6f-0c9c413c2cc3",
   "metadata": {},
   "outputs": [
    {
     "data": {
      "text/plain": [
       "(array([], dtype=int64), array([], dtype=int64))"
      ]
     },
     "execution_count": 12,
     "metadata": {},
     "output_type": "execute_result"
    }
   ],
   "source": [
    "vectors_xyz = np.zeros((3621,3))\n",
    "np.isnan(vec_vals, vectors_xyz, where=False)\n",
    "np.nonzero(vectors_xyz)"
   ]
  },
  {
   "cell_type": "code",
   "execution_count": null,
   "id": "dfed876d-68ce-4607-9f4e-496bec99e15c",
   "metadata": {},
   "outputs": [],
   "source": []
  },
  {
   "cell_type": "code",
   "execution_count": null,
   "id": "fdbe08bf-11ff-4146-a47f-3eb21b517f46",
   "metadata": {},
   "outputs": [],
   "source": []
  },
  {
   "cell_type": "code",
   "execution_count": null,
   "id": "f28769c2-95e0-4969-949a-44072d1a89fb",
   "metadata": {},
   "outputs": [],
   "source": []
  },
  {
   "cell_type": "code",
   "execution_count": 13,
   "id": "0d7e50fd-2410-4d7c-ae0f-aae485df795f",
   "metadata": {},
   "outputs": [
    {
     "name": "stdout",
     "output_type": "stream",
     "text": [
      "50\n",
      "70\n",
      "0\n",
      "2\n"
     ]
    }
   ],
   "source": [
    "print(u_i)\n",
    "print(v_i)\n",
    "print(u_index)\n",
    "print(v_index)"
   ]
  },
  {
   "cell_type": "code",
   "execution_count": 14,
   "id": "8f17f0cd-7794-4e3a-8639-07492b98e935",
   "metadata": {},
   "outputs": [
    {
     "data": {
      "text/plain": [
       "Text(0, 0.5, 'z')"
      ]
     },
     "execution_count": 14,
     "metadata": {},
     "output_type": "execute_result"
    },
    {
     "data": {
      "image/png": "[encoded data removed]",
      "text/plain": [
       "<Figure size 1132.62x700 with 1 Axes>"
      ]
     },
     "metadata": {},
     "output_type": "display_data"
    }
   ],
   "source": [
    "fl.next('field plot')\n",
    "xlabel('x')\n",
    "ylabel('z')\n",
    "#axis.Axis.set_major_formatter(u_axis)\n",
    "#axis.Axis.set_major_formatter(v_axis)"
   ]
  },
  {
   "cell_type": "code",
   "execution_count": null,
   "id": "4d38642c-4fda-4850-b66b-bcb24da9fffd",
   "metadata": {},
   "outputs": [],
   "source": []
  }
 ],
 "metadata": {
  "kernelspec": {
   "display_name": "Python 3 (ipykernel)",
   "language": "python",
   "name": "python3"
  },
  "language_info": {
   "codemirror_mode": {
    "name": "ipython",
    "version": 3
   },
   "file_extension": ".py",
   "mimetype": "text/x-python",
   "name": "python",
   "nbconvert_exporter": "python",
   "pygments_lexer": "ipython3",
   "version": "3.11.7"
  }
 },
 "nbformat": 4,
 "nbformat_minor": 5
}
