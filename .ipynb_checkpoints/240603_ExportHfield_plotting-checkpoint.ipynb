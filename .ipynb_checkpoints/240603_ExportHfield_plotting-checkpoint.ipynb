{
 "cells": [
  {
   "cell_type": "code",
   "execution_count": 1,
   "id": "f848ad30-e266-4868-bf74-0fc995e89004",
   "metadata": {},
   "outputs": [],
   "source": [
    "from matplotlib import *\n",
    "from pylab import *\n",
    "from numpy import *\n",
    "from pyspecdata import *"
   ]
  },
  {
   "cell_type": "code",
   "execution_count": 2,
   "id": "1ad86b7d-927d-4cb4-87ed-03edba745616",
   "metadata": {},
   "outputs": [],
   "source": [
    "filename = 'VectorH_240523.fld'\n",
    "fl = figlist_var()"
   ]
  },
  {
   "cell_type": "code",
   "execution_count": 3,
   "id": "cd00ba3b-d75c-4f9f-a655-3af953d387fe",
   "metadata": {},
   "outputs": [],
   "source": [
    "def construct_axes_from_positions(positions):\n",
    "    #{{{ construct the axes\n",
    "    list_of_axes = [unique(positions[:,j]) for j in range(0,3)]\n",
    "    list_of_indeces = [0,1,2]\n",
    "    for j in range(0,len(list_of_axes)):\n",
    "        if len(list_of_axes[j]) == 1:\n",
    "            list_of_axes.pop(j)\n",
    "            list_of_indeces.pop(j)\n",
    "            break\n",
    "    [u_axis,v_axis] = list_of_axes\n",
    "    [u_index,v_index] = list_of_indeces\n",
    "    return u_index,v_index,u_axis,v_axis\n",
    "    #}}}"
   ]
  },
  {
   "cell_type": "code",
   "execution_count": 4,
   "id": "855aa249-ab61-4c5b-8115-a2f3a3eda838",
   "metadata": {},
   "outputs": [],
   "source": [
    "def load_hfss_vectors(filename,show_valid = True):\n",
    "    fp = open(filename,'r')\n",
    "    data = fp.readlines()\n",
    "    fp.close()\n",
    "    header = data[0:2]\n",
    "    print(\"the second line tells me what's in the file -- x,y,z, followed by the 3 positions of vector data and the final part tells me what it is\")\n",
    "    print('header is',r'\\begin{verbatim}', header, r'\\end{verbatim}')\n",
    "    data = data[2:]\n",
    "    positions = empty((len(data),3),dtype = 'double')\n",
    "    vec_vals = empty((len(data),3),dtype = 'double')\n",
    "    for j,line in enumerate(data):\n",
    "        vals = [double(x) for x in line.strip().split(\" \") if len(x)>0]\n",
    "        positions[j,:] = vals[0:3]\n",
    "        vec_vals[j,:] = vals[3:]\n",
    "    u_index,v_index,u_axis,v_axis = construct_axes_from_positions(positions)\n",
    "    #{{{ show the datapoints and which are valid\n",
    "    if show_valid:\n",
    "        fl.next('show valid values')\n",
    "        thismask = isnan(vec_vals[:,2])\n",
    "        fl.plot(positions[:,0][thismask],positions[:,v_index][thismask],'r.')\n",
    "        fl.plot(positions[:,0][~thismask],positions[:,v_index][~thismask],'b.')\n",
    "        xlabel('x')\n",
    "        ylabel('z')\n",
    "        axes().set_aspect('equal', 'datalim')\n",
    "    #}}}\n",
    "    data = empty((len(u_axis),len(v_axis),3),dtype = 'double')\n",
    "    for j in range(0,positions.shape[0]):\n",
    "        u_i = where(u_axis == positions[j,u_index])[0][0]\n",
    "        v_i = where(v_axis == positions[j,v_index])[0][0]\n",
    "        data[u_i,v_i,:] = vec_vals[j,:]\n",
    "    return u_index,u_axis,v_index,v_axis,data"
   ]
  },
  {
   "cell_type": "code",
   "execution_count": 5,
   "id": "0bc541d3-8474-4144-a80d-6d0bc38896e1",
   "metadata": {},
   "outputs": [
    {
     "name": "stdout",
     "output_type": "stream",
     "text": [
      "the second line tells me what's in the file -- x,y,z, followed by the 3 positions of vector data and the final part tells me what it is\n",
      "header is \\begin{verbatim} ['Grid Output Min: [-25mm 0mm -20mm] Max: [25mm 0mm 50mm] Grid Size: [1mm 0mm 1mm]\\n', 'X, Y, Z, Vector data \"Vector_H\"\\n'] \\end{verbatim}\n"
     ]
    },
    {
     "data": {
      "text/plain": [
       "(0,\n",
       " array([-0.025, -0.024, -0.023, -0.022, -0.021, -0.02 , -0.019, -0.018,\n",
       "        -0.017, -0.016, -0.015, -0.014, -0.013, -0.012, -0.011, -0.01 ,\n",
       "        -0.009, -0.008, -0.007, -0.006, -0.005, -0.004, -0.003, -0.002,\n",
       "        -0.001,  0.   ,  0.001,  0.002,  0.003,  0.004,  0.005,  0.006,\n",
       "         0.007,  0.008,  0.009,  0.01 ,  0.011,  0.012,  0.013,  0.014,\n",
       "         0.015,  0.016,  0.017,  0.018,  0.019,  0.02 ,  0.021,  0.022,\n",
       "         0.023,  0.024,  0.025]),\n",
       " 2,\n",
       " array([-0.02 , -0.019, -0.018, -0.017, -0.016, -0.015, -0.014, -0.013,\n",
       "        -0.012, -0.011, -0.01 , -0.009, -0.008, -0.007, -0.006, -0.005,\n",
       "        -0.004, -0.003, -0.002, -0.001,  0.   ,  0.001,  0.002,  0.003,\n",
       "         0.004,  0.005,  0.006,  0.007,  0.008,  0.009,  0.01 ,  0.011,\n",
       "         0.012,  0.013,  0.014,  0.015,  0.016,  0.017,  0.018,  0.019,\n",
       "         0.02 ,  0.021,  0.022,  0.023,  0.024,  0.025,  0.026,  0.027,\n",
       "         0.028,  0.029,  0.03 ,  0.031,  0.032,  0.033,  0.034,  0.035,\n",
       "         0.036,  0.037,  0.038,  0.039,  0.04 ,  0.041,  0.042,  0.043,\n",
       "         0.044,  0.045,  0.046,  0.047,  0.048,  0.049,  0.05 ]),\n",
       " array([[[nan, nan, nan],\n",
       "         [nan, nan, nan],\n",
       "         [nan, nan, nan],\n",
       "         ...,\n",
       "         [nan, nan, nan],\n",
       "         [nan, nan, nan],\n",
       "         [nan, nan, nan]],\n",
       " \n",
       "        [[nan, nan, nan],\n",
       "         [nan, nan, nan],\n",
       "         [nan, nan, nan],\n",
       "         ...,\n",
       "         [nan, nan, nan],\n",
       "         [nan, nan, nan],\n",
       "         [nan, nan, nan]],\n",
       " \n",
       "        [[nan, nan, nan],\n",
       "         [nan, nan, nan],\n",
       "         [nan, nan, nan],\n",
       "         ...,\n",
       "         [nan, nan, nan],\n",
       "         [nan, nan, nan],\n",
       "         [nan, nan, nan]],\n",
       " \n",
       "        ...,\n",
       " \n",
       "        [[nan, nan, nan],\n",
       "         [nan, nan, nan],\n",
       "         [nan, nan, nan],\n",
       "         ...,\n",
       "         [nan, nan, nan],\n",
       "         [nan, nan, nan],\n",
       "         [nan, nan, nan]],\n",
       " \n",
       "        [[nan, nan, nan],\n",
       "         [nan, nan, nan],\n",
       "         [nan, nan, nan],\n",
       "         ...,\n",
       "         [nan, nan, nan],\n",
       "         [nan, nan, nan],\n",
       "         [nan, nan, nan]],\n",
       " \n",
       "        [[nan, nan, nan],\n",
       "         [nan, nan, nan],\n",
       "         [nan, nan, nan],\n",
       "         ...,\n",
       "         [nan, nan, nan],\n",
       "         [nan, nan, nan],\n",
       "         [nan, nan, nan]]]))"
      ]
     },
     "execution_count": 5,
     "metadata": {},
     "output_type": "execute_result"
    }
   ],
   "source": [
    "load_hfss_vectors(filename, show_valid = False)"
   ]
  },
  {
   "cell_type": "code",
   "execution_count": 6,
   "id": "d55e59c4-f420-46b6-98c6-fc9635babb40",
   "metadata": {},
   "outputs": [
    {
     "ename": "NameError",
     "evalue": "name 'show_valid' is not defined",
     "output_type": "error",
     "traceback": [
      "\u001b[1;31m---------------------------------------------------------------------------\u001b[0m",
      "\u001b[1;31mNameError\u001b[0m                                 Traceback (most recent call last)",
      "Cell \u001b[1;32mIn[6], line 11\u001b[0m\n\u001b[0;32m      9\u001b[0m     vec_vals[j,:] \u001b[38;5;241m=\u001b[39m vals[\u001b[38;5;241m3\u001b[39m:]\n\u001b[0;32m     10\u001b[0m u_index,v_index,u_axis,v_axis \u001b[38;5;241m=\u001b[39m construct_axes_from_positions(positions)\n\u001b[1;32m---> 11\u001b[0m \u001b[38;5;28;01mif\u001b[39;00m show_valid:\n\u001b[0;32m     12\u001b[0m         fl\u001b[38;5;241m.\u001b[39mnext(\u001b[38;5;124m'\u001b[39m\u001b[38;5;124mshow valid values\u001b[39m\u001b[38;5;124m'\u001b[39m)\n\u001b[0;32m     13\u001b[0m         thismask \u001b[38;5;241m=\u001b[39m isnan(vec_vals[:,\u001b[38;5;241m2\u001b[39m])\n",
      "\u001b[1;31mNameError\u001b[0m: name 'show_valid' is not defined"
     ]
    }
   ],
   "source": [
    "fp = open(filename, 'r')\n",
    "data = fp.readlines()\n",
    "data = data[2:]\n",
    "positions = empty((len(data),3),dtype = 'double')\n",
    "vec_vals = empty((len(data),3),dtype = 'double')\n",
    "for j,line in enumerate(data):\n",
    "    vals = [double(x) for x in line.strip().split(\" \") if len(x)>0]\n",
    "    positions[j,:] = vals[0:3]\n",
    "    vec_vals[j,:] = vals[3:]\n",
    "u_index,v_index,u_axis,v_axis = construct_axes_from_positions(positions)\n",
    "fl.next('show valid values')\n",
    "thismask = isnan(vec_vals[:,2])\n",
    "fl.plot(positions[:,0][thismask],positions[:,v_index][thismask],'r.')\n",
    "fl.plot(positions[:,0][~thismask],positions[:,v_index][~thismask],'b.')\n",
    "xlabel('x')\n",
    "ylabel('z')\n",
    "axes().set_aspect('equal', 'datalim')\n",
    "data = empty((len(u_axis),len(v_axis),3),dtype = 'double')\n",
    "for j in range(0,positions.shape[0]):\n",
    "    u_i = where(u_axis == positions[j,u_index])[0][0]\n",
    "    v_i = where(v_axis == positions[j,v_index])[0][0]\n",
    "    data[u_i,v_i,:] = vec_vals[j,:]\n",
    "    return u_index,u_axis,v_index,v_axis,data\n",
    "print(thismask)"
   ]
  },
  {
   "cell_type": "code",
   "execution_count": null,
   "id": "50acc259-daeb-4760-b510-0f2c7d07b0fd",
   "metadata": {},
   "outputs": [],
   "source": []
  },
  {
   "cell_type": "code",
   "execution_count": null,
   "id": "0d7e50fd-2410-4d7c-ae0f-aae485df795f",
   "metadata": {},
   "outputs": [],
   "source": []
  },
  {
   "cell_type": "code",
   "execution_count": null,
   "id": "8f17f0cd-7794-4e3a-8639-07492b98e935",
   "metadata": {},
   "outputs": [],
   "source": []
  },
  {
   "cell_type": "code",
   "execution_count": null,
   "id": "4d38642c-4fda-4850-b66b-bcb24da9fffd",
   "metadata": {},
   "outputs": [],
   "source": []
  }
 ],
 "metadata": {
  "kernelspec": {
   "display_name": "Python 3 (ipykernel)",
   "language": "python",
   "name": "python3"
  },
  "language_info": {
   "codemirror_mode": {
    "name": "ipython",
    "version": 3
   },
   "file_extension": ".py",
   "mimetype": "text/x-python",
   "name": "python",
   "nbconvert_exporter": "python",
   "pygments_lexer": "ipython3",
   "version": "3.11.7"
  }
 },
 "nbformat": 4,
 "nbformat_minor": 5
}
